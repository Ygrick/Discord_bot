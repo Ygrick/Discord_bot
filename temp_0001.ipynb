{
 "cells": [
  {
   "cell_type": "code",
   "execution_count": 15,
   "metadata": {},
   "outputs": [
    {
     "name": "stdout",
     "output_type": "stream",
     "text": [
      "0.420927107790114\n",
      "5.175373928457958\n",
      "[73.34008753]\n"
     ]
    },
    {
     "name": "stderr",
     "output_type": "stream",
     "text": [
      "C:\\Users\\qwed1\\Documents\\GitHub\\Discord_bot\\get_period.py:18: SettingWithCopyWarning: \n",
      "A value is trying to be set on a copy of a slice from a DataFrame\n",
      "\n",
      "See the caveats in the documentation: https://pandas.pydata.org/pandas-docs/stable/user_guide/indexing.html#returning-a-view-versus-a-copy\n",
      "  table['rate'][n] /= table['multiplier'][n]*10000\n"
     ]
    }
   ],
   "source": [
    "# from sklearn.externals import joblib\n",
    "from sklearn.metrics import mean_absolute_error\n",
    "from sklearn.metrics import max_error\n",
    "from sklearn.linear_model import LinearRegression\n",
    "from sklearn.model_selection import train_test_split\n",
    "import sklearn\n",
    "import numpy\n",
    "import requests\n",
    "import pandas as pd\n",
    "from matplotlib import pyplot as plt\n",
    "import datetime\n",
    "from getRcode import getRcode\n",
    "from get_period import get_period\n",
    "\n",
    "\n",
    "def get_prediction(curr):\n",
    "    today = datetime.datetime.today()\n",
    "    tomorrow = (today + datetime.timedelta(days=1))\n",
    "    df = get_period('01.01.2016', today, getRcode(curr))  # с 2016 по текущее с Rcode нужным\n",
    "    new_row = {'date': [tomorrow], 'rate': [0]}\n",
    "    new_df = pd.DataFrame(new_row)\n",
    "    df = pd.concat([df, new_df])\n",
    "\n",
    "    # df['date'] = pd.to_datetime(df['date']).dt.date\n",
    "    # df['date'] = pd.to_datetime(df['date'],format=\"%d.%m.%Y\")\n",
    "    # разбиение даты на года\\месяцы\\недели\n",
    "    df[\"weekday\"] = df[\"date\"].dt.weekday\n",
    "    df[\"month\"] = df[\"date\"].dt.month\n",
    "    df[\"year\"] = df[\"date\"].dt.year\n",
    "    df.drop(['date'], axis=1, inplace=True)\n",
    "\n",
    "    # курсы за последние 7 дней (скроллинг\\шифтинг)\n",
    "    past_days = 7\n",
    "    for day in range(past_days):\n",
    "        d = day + 1\n",
    "        df[f\"curs_back_{d}d\"] = df[\"rate\"].shift(d)\n",
    "    df.dropna(inplace=True)\n",
    "\n",
    "    # бинарность столбцов по значениям\n",
    "    df = pd.get_dummies(df, columns=[\"year\", \"month\", \"weekday\"])\n",
    "\n",
    "    # нужно создать последннюю строчку(как раз которую будем прогнозировать)\n",
    "    # а именно входные данные\n",
    "    new_df = df[-1:]\n",
    "    df.drop(df.tail(1).index, inplace=True)\n",
    "    # разметка на тестовые и тренировочные данные\n",
    "    x = df.drop('rate', axis=1)\n",
    "    y = df['rate']\n",
    "    X_train, X_test, y_train, y_test = train_test_split(x, y, test_size=0.33)\n",
    "\n",
    "    # обучение\n",
    "    model = LinearRegression()\n",
    "    model.fit(X_train, y_train)\n",
    "\n",
    "    # метрика\n",
    "    prediction = model.predict(X_test)\n",
    "    print(mean_absolute_error(y_test, prediction))\n",
    "    print(max_error(y_test, prediction))\n",
    "\n",
    "    # предсказание\n",
    "    return model.predict(new_df.drop('rate', axis=1))\n",
    "\n",
    "\n",
    "print(get_prediction('Доллар США'))\n"
   ]
  },
  {
   "cell_type": "code",
   "execution_count": 14,
   "metadata": {},
   "outputs": [
    {
     "name": "stdout",
     "output_type": "stream",
     "text": [
      "0.6700231208039361\n"
     ]
    },
    {
     "name": "stderr",
     "output_type": "stream",
     "text": [
      "C:\\Users\\qwed1\\Documents\\GitHub\\Discord_bot\\get_period.py:18: SettingWithCopyWarning: \n",
      "A value is trying to be set on a copy of a slice from a DataFrame\n",
      "\n",
      "See the caveats in the documentation: https://pandas.pydata.org/pandas-docs/stable/user_guide/indexing.html#returning-a-view-versus-a-copy\n",
      "  table['rate'][n] /= table['multiplier'][n]*10000\n"
     ]
    }
   ],
   "source": [
    "def get_prediction(curr):\n",
    "    today = datetime.datetime.today()\n",
    "    tomorrow = (today + datetime.timedelta(days=1))\n",
    "    df = get_period('01.01.2019', today, getRcode(curr))  # с 2016 по текущее с Rcode нужным\n",
    "    new_row = {'date': [tomorrow], 'rate': [0]}\n",
    "    new_df = pd.DataFrame(new_row)\n",
    "    df = pd.concat([df, new_df])\n",
    "\n",
    "    # df['date'] = pd.to_datetime(df['date']).dt.date\n",
    "    # df['date'] = pd.to_datetime(df['date'],format=\"%d.%m.%Y\")\n",
    "    # разбиение даты на года\\месяцы\\недели\n",
    "    df[\"weekday\"] = df[\"date\"].dt.weekday\n",
    "    df[\"month\"] = df[\"date\"].dt.month\n",
    "    df[\"year\"] = df[\"date\"].dt.year\n",
    "    df.drop(['date'], axis=1, inplace=True)\n",
    "\n",
    "    # курсы за последние 7 дней (скроллинг\\шифтинг)\n",
    "    past_days = 7\n",
    "    for day in range(past_days):\n",
    "        d = day + 1\n",
    "        df[f\"curs_back_{d}d\"] = df[\"rate\"].shift(d)\n",
    "    df.dropna(inplace=True)\n",
    "\n",
    "    \n",
    "\n",
    "    # бинарность столбцов по значениям\n",
    "    df = pd.get_dummies(df, columns=[\"year\", \"month\", \"weekday\"])\n",
    "\n",
    "    # нужно создать последннюю строчку(как раз которую будем прогнозировать)\n",
    "    # а именно входные данные\n",
    "    new_df = df[-1:]\n",
    "    df.drop(df.tail(1).index, inplace=True)\n",
    "#     print(df)\n",
    "    # разметка на тестовые и тренировочные данные\n",
    "    x = df.drop('rate', axis=1)\n",
    "    y = df['rate']\n",
    "    X_train, X_test, y_train, y_test = train_test_split(x, y, test_size=0.33)\n",
    "\n",
    "    # обучение\n",
    "    model = LinearRegression()\n",
    "    model.fit(X_train, y_train)\n",
    "\n",
    "    # метрика\n",
    "    prediction = model.predict(X_test)\n",
    "#     print(mean_absolute_error(y_test, prediction))\n",
    "#     print(max_error(y_test, prediction))\n",
    "\n",
    "    # предсказание\n",
    "    return model.predict(new_df.drop('rate', axis=1))[0]\n",
    "\n",
    "\n",
    "print(get_prediction('Японская иена'))"
   ]
  },
  {
   "cell_type": "code",
   "execution_count": 2,
   "metadata": {},
   "outputs": [
    {
     "ename": "NameError",
     "evalue": "name 'df' is not defined",
     "output_type": "error",
     "traceback": [
      "\u001b[1;31m---------------------------------------------------------------------------\u001b[0m",
      "\u001b[1;31mNameError\u001b[0m                                 Traceback (most recent call last)",
      "\u001b[1;32m<ipython-input-2-00cf07b74dcd>\u001b[0m in \u001b[0;36m<module>\u001b[1;34m\u001b[0m\n\u001b[1;32m----> 1\u001b[1;33m \u001b[0mdf\u001b[0m\u001b[1;33m\u001b[0m\u001b[1;33m\u001b[0m\u001b[0m\n\u001b[0m",
      "\u001b[1;31mNameError\u001b[0m: name 'df' is not defined"
     ]
    }
   ],
   "source": [
    "df"
   ]
  },
  {
   "cell_type": "code",
   "execution_count": null,
   "metadata": {},
   "outputs": [],
   "source": []
  }
 ],
 "metadata": {
  "kernelspec": {
   "display_name": "Python 3",
   "language": "python",
   "name": "python3"
  },
  "language_info": {
   "codemirror_mode": {
    "name": "ipython",
    "version": 3
   },
   "file_extension": ".py",
   "mimetype": "text/x-python",
   "name": "python",
   "nbconvert_exporter": "python",
   "pygments_lexer": "ipython3",
   "version": "3.8.5"
  }
 },
 "nbformat": 4,
 "nbformat_minor": 4
}
